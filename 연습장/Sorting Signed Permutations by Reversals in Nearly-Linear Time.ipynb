{
 "cells": [
  {
   "cell_type": "markdown",
   "metadata": {},
   "source": [
    "### 논문\n",
    "- https://arxiv.org/pdf/2308.15928"
   ]
  },
  {
   "cell_type": "markdown",
   "metadata": {},
   "source": [
    "### 입력"
   ]
  },
  {
   "cell_type": "code",
   "execution_count": 48,
   "metadata": {},
   "outputs": [],
   "source": [
    "arr = [-3, 1, -2, 6, 4, 5 , 8, 7]"
   ]
  },
  {
   "cell_type": "markdown",
   "metadata": {},
   "source": [
    "### reverse 정의"
   ]
  },
  {
   "cell_type": "code",
   "execution_count": 50,
   "metadata": {},
   "outputs": [],
   "source": [
    "def reverse(arr, i, j, arr_inv):\n",
    "    reversed = []\n",
    "    for k in range(i, j + 1):\n",
    "        reversed.append(-arr[k])\n",
    "    for k in range(i, j + 1):\n",
    "        value = reversed.pop()\n",
    "        arr[k] = value\n",
    "        arr_inv[abs(value)] = k"
   ]
  },
  {
   "cell_type": "markdown",
   "metadata": {},
   "source": [
    "### 전처리"
   ]
  },
  {
   "cell_type": "code",
   "execution_count": 51,
   "metadata": {},
   "outputs": [],
   "source": [
    "pi = [0] + arr + [len(arr) + 1]\n",
    "n = pi[-1]\n",
    "signed_pi_inv = [0] * (2*n)\n",
    "pi_inv = [0] * (n + 1)\n",
    "signed_pi = [0]\n",
    "signed_pi_inv[0] = 0\n",
    "pi_inv[0] = 0\n",
    "pi_inv[n] = n\n",
    "for i, num in enumerate(arr, 1):\n",
    "    signed_pi_inv[-num] = len(signed_pi)\n",
    "    signed_pi.append(-num)\n",
    "    signed_pi_inv[num] = len(signed_pi)\n",
    "    signed_pi.append(num)\n",
    "    pi_inv[abs(num)] = i\n",
    "signed_pi_inv[-n] = len(signed_pi)\n",
    "signed_pi.append(-n)\n",
    "\n",
    "edge_start_at = [None] * (2*n)\n",
    "edge_end_at = [None] * (2*n)\n",
    "black = [True] * n\n",
    "for i in range(0, n):\n",
    "    s = signed_pi_inv[i]\n",
    "    e = signed_pi_inv[-(i + 1)]\n",
    "    if s > e:\n",
    "        s, e = e, s\n",
    "    edge_start_at[s] = i\n",
    "    edge_end_at[e] = i\n",
    "    black[i] = ((1 if pi[i] >= 0 else -1) * pi[i + 1]) < 0\n",
    "\n",
    "G = {i: {i} for i in range(n)}\n",
    "S1 = []\n",
    "S2 = []\n",
    "for i in range(0, 2*n):\n",
    "    if (v := edge_start_at[i]) != None:\n",
    "        S1.append(v)\n",
    "    elif (v := edge_end_at[i]) != None:\n",
    "        while S1[-1] != v:\n",
    "            S2.append(s := S1.pop())\n",
    "            G[v].add(s)\n",
    "            G[s].add(v)\n",
    "        S1.pop()\n",
    "        while S2:\n",
    "            S1.append(S2.pop())"
   ]
  },
  {
   "cell_type": "code",
   "execution_count": 52,
   "metadata": {},
   "outputs": [
    {
     "name": "stdout",
     "output_type": "stream",
     "text": [
      "5 is an element of non-singleton all-white connected component\n",
      "reversing [6, 6]\n",
      "[0, -3, 1, -2, 6, 4, -5, 8, 7, 9]\n",
      "[0, 2, 3, 1, 5, 6, 4, 8, 7, 9]\n",
      "7 is an element of non-singleton all-white connected component\n",
      "reversing [8, 8]\n",
      "[0, -3, 1, -2, 6, 4, -5, 8, -7, 9]\n",
      "[0, 2, 3, 1, 5, 6, 4, 8, 7, 9]\n"
     ]
    }
   ],
   "source": [
    "# non-singleton all-white connected component\n",
    "from collections import deque\n",
    "\n",
    "reversals = []\n",
    "while True:\n",
    "    nsawcc = []\n",
    "    visited = [False] * n\n",
    "    for i in range(n):\n",
    "        if visited[i]:\n",
    "            continue\n",
    "        visited[i] = True\n",
    "        connected = 0\n",
    "        all_white = True\n",
    "        queue = deque([i])\n",
    "        while queue:\n",
    "            here = queue.popleft()\n",
    "            if black[here]:\n",
    "                all_white = False\n",
    "                break\n",
    "            connected += 1\n",
    "            for there in G[here]:\n",
    "                if there == here or visited[there]:\n",
    "                    continue\n",
    "                visited[there] = True\n",
    "                queue.append(there)\n",
    "        if all_white and connected > 1:\n",
    "            print(f'{i} is an element of non-singleton all-white connected component')\n",
    "            if i == 0:\n",
    "                nsawcc.append((pi_inv[i+1], pi_inv[i+1]))\n",
    "            else:\n",
    "                nsawcc.append((pi_inv[i], pi_inv[i]))\n",
    "    if not nsawcc:\n",
    "        break\n",
    "    \n",
    "    reversals.extend(nsawcc)\n",
    "    for l, r in nsawcc:\n",
    "        print(f'reversing [{l}, {r}]')\n",
    "        reverse(pi, l, r, pi_inv)\n",
    "        print(pi)\n",
    "        print(pi_inv)\n",
    "\n",
    "    signed_pi_inv = [0] * (2*n)\n",
    "    pi_inv = [0] * (n + 1)\n",
    "    signed_pi = [0]\n",
    "    signed_pi_inv[0] = 0\n",
    "    pi_inv[0] = 0\n",
    "    pi_inv[n] = n\n",
    "    for i, num in enumerate(arr, 1):\n",
    "        signed_pi_inv[-num] = len(signed_pi)\n",
    "        signed_pi.append(-num)\n",
    "        signed_pi_inv[num] = len(signed_pi)\n",
    "        signed_pi.append(num)\n",
    "        pi_inv[abs(num)] = i\n",
    "    signed_pi_inv[-n] = len(signed_pi)\n",
    "    signed_pi.append(-n)\n",
    "\n",
    "    edge_start_at = [None] * (2*n)\n",
    "    edge_end_at = [None] * (2*n)\n",
    "    black = [True] * n\n",
    "    for i in range(0, n):\n",
    "        s = signed_pi_inv[i]\n",
    "        e = signed_pi_inv[-(i + 1)]\n",
    "        if s > e:\n",
    "            s, e = e, s\n",
    "        edge_start_at[s] = i\n",
    "        edge_end_at[e] = i\n",
    "        black[i] = ((1 if pi[i] >= 0 else -1) * pi[i + 1]) < 0\n",
    "\n",
    "    G = {i: {i} for i in range(n)}\n",
    "    S1 = []\n",
    "    S2 = []\n",
    "    for i in range(0, 2*n):\n",
    "        if (v := edge_start_at[i]) != None:\n",
    "            S1.append(v)\n",
    "        elif (v := edge_end_at[i]) != None:\n",
    "            while S1[-1] != v:\n",
    "                S2.append(s := S1.pop())\n",
    "                G[v].add(s)\n",
    "                G[s].add(v)\n",
    "            S1.pop()\n",
    "            while S2:\n",
    "                S1.append(S2.pop())"
   ]
  },
  {
   "cell_type": "code",
   "execution_count": 53,
   "metadata": {},
   "outputs": [
    {
     "name": "stdout",
     "output_type": "stream",
     "text": [
      "[0, -3, 1, -2, 6, 4, -5, 8, -7, 9]\n",
      "[0, 2, 3, 1, 5, 6, 4, 8, 7, 9]\n",
      "[0, 3, -3, -1, 1, 2, -2, -6, 6, -4, 4, -5, 5, -8, 8, -7, 7, -9]\n",
      "[0, 4, 5, 1, 10, 12, 8, 16, 14, 17, 13, 15, 7, 11, 9, 2, 6, 3]\n"
     ]
    },
    {
     "data": {
      "text/plain": [
       "{0: {0, 2, 3},\n",
       " 1: {1, 2},\n",
       " 2: {0, 1, 2},\n",
       " 3: {0, 3, 5, 6},\n",
       " 4: {4},\n",
       " 5: {3, 5, 6},\n",
       " 6: {3, 5, 6, 7, 8},\n",
       " 7: {6, 7, 8},\n",
       " 8: {6, 7, 8}}"
      ]
     },
     "execution_count": 53,
     "metadata": {},
     "output_type": "execute_result"
    }
   ],
   "source": [
    "print(pi)\n",
    "print(pi_inv)\n",
    "print(signed_pi)\n",
    "print(signed_pi_inv)\n",
    "G"
   ]
  },
  {
   "cell_type": "markdown",
   "metadata": {},
   "source": [
    "### toggle 정의"
   ]
  },
  {
   "cell_type": "code",
   "execution_count": 54,
   "metadata": {},
   "outputs": [],
   "source": [
    "def toggle(vertices, G, black):\n",
    "    print('@toggle START')\n",
    "    print(f'\\t{G=}')\n",
    "    print(f'\\t{black=}')\n",
    "    ret = set(vertices)\n",
    "    for neighbor in vertices:\n",
    "        G[neighbor] = G[neighbor] ^ vertices | {neighbor}\n",
    "        black[neighbor] = not black[neighbor]\n",
    "    print(f'>>>\\n\\t{G=}')\n",
    "    print(f'\\t{black=}')\n",
    "    print('@toggle END')\n",
    "    return ret"
   ]
  },
  {
   "cell_type": "markdown",
   "metadata": {},
   "source": [
    "### reversal_sort 정의"
   ]
  },
  {
   "cell_type": "code",
   "execution_count": 55,
   "metadata": {},
   "outputs": [],
   "source": [
    "def reversal_sort(G, black):\n",
    "    S1, S2 = [], []\n",
    "    V = set()\n",
    "    \n",
    "    for v in G:\n",
    "        if len(G[v]) != 1 or black[v]:\n",
    "            V.add(v)\n",
    "    \n",
    "    print(f'initial {V=}\\n')\n",
    "            \n",
    "    def toggle_black():\n",
    "        for v in V:\n",
    "            if black[v]:\n",
    "                break\n",
    "        affected = toggle(G[v], G, black)\n",
    "        for v in set(V):\n",
    "            if len(G[v]) == 1 and not black[v]:\n",
    "                V.remove(v)\n",
    "        S1.append((v, affected))\n",
    "        print(f'=== toggled, {V=}\\n')\n",
    "\n",
    "    def undo_last_toggle():\n",
    "        w, to_undo = S1.pop()\n",
    "        affected = toggle(to_undo, G, black)\n",
    "        print(f'=== undone toggle, {V=}\\n')\n",
    "        return w, affected\n",
    "\n",
    "    while any(black[v] for v in V):\n",
    "        toggle_black()\n",
    "    \n",
    "    while V:\n",
    "        while all(not black[v] for v in V):\n",
    "            undone = undo_last_toggle()\n",
    "            S2.append(undone)\n",
    "        while any(black[v] for v in V):\n",
    "            toggle_black()\n",
    "        if not black[S2[-1][0]]:\n",
    "            undo_last_toggle()\n",
    "        \n",
    "    print()\n",
    "    print(f'{S1=}')\n",
    "    print(f'{S2=}')\n",
    "    print(f'{V=}')\n",
    "    print(f'{G=}')\n",
    "    print(f'{black=}')\n",
    "\n",
    "    ret = []\n",
    "    for sort in S1 + S2[::-1]:\n",
    "        ret.append(sort[0])\n",
    "    return ret"
   ]
  },
  {
   "cell_type": "markdown",
   "metadata": {},
   "source": [
    "### 테스트"
   ]
  },
  {
   "cell_type": "code",
   "execution_count": 56,
   "metadata": {},
   "outputs": [
    {
     "name": "stdout",
     "output_type": "stream",
     "text": [
      "initial V={0, 1, 2, 3, 5, 6, 7, 8}\n",
      "\n",
      "@toggle START\n",
      "\tG={0: {0, 2, 3}, 1: {1, 2}, 2: {0, 1, 2}, 3: {0, 3, 5, 6}, 4: {4}, 5: {3, 5, 6}, 6: {3, 5, 6, 7, 8}, 7: {8, 6, 7}, 8: {8, 6, 7}}\n",
      "\tblack=[True, True, True, True, False, True, True, True, True]\n",
      ">>>\n",
      "\tG={0: {0}, 1: {1, 2}, 2: {1, 2, 3}, 3: {2, 3, 5, 6}, 4: {4}, 5: {3, 5, 6}, 6: {3, 5, 6, 7, 8}, 7: {8, 6, 7}, 8: {8, 6, 7}}\n",
      "\tblack=[False, True, False, False, False, True, True, True, True]\n",
      "@toggle END\n",
      "=== toggled, V={1, 2, 3, 5, 6, 7, 8}\n",
      "\n",
      "@toggle START\n",
      "\tG={0: {0}, 1: {1, 2}, 2: {1, 2, 3}, 3: {2, 3, 5, 6}, 4: {4}, 5: {3, 5, 6}, 6: {3, 5, 6, 7, 8}, 7: {8, 6, 7}, 8: {8, 6, 7}}\n",
      "\tblack=[False, True, False, False, False, True, True, True, True]\n",
      ">>>\n",
      "\tG={0: {0}, 1: {1}, 2: {2, 3}, 3: {2, 3, 5, 6}, 4: {4}, 5: {3, 5, 6}, 6: {3, 5, 6, 7, 8}, 7: {8, 6, 7}, 8: {8, 6, 7}}\n",
      "\tblack=[False, False, True, False, False, True, True, True, True]\n",
      "@toggle END\n",
      "=== toggled, V={2, 3, 5, 6, 7, 8}\n",
      "\n",
      "@toggle START\n",
      "\tG={0: {0}, 1: {1}, 2: {2, 3}, 3: {2, 3, 5, 6}, 4: {4}, 5: {3, 5, 6}, 6: {3, 5, 6, 7, 8}, 7: {8, 6, 7}, 8: {8, 6, 7}}\n",
      "\tblack=[False, False, True, False, False, True, True, True, True]\n",
      ">>>\n",
      "\tG={0: {0}, 1: {1}, 2: {2}, 3: {3, 5, 6}, 4: {4}, 5: {3, 5, 6}, 6: {3, 5, 6, 7, 8}, 7: {8, 6, 7}, 8: {8, 6, 7}}\n",
      "\tblack=[False, False, False, True, False, True, True, True, True]\n",
      "@toggle END\n",
      "=== toggled, V={3, 5, 6, 7, 8}\n",
      "\n",
      "@toggle START\n",
      "\tG={0: {0}, 1: {1}, 2: {2}, 3: {3, 5, 6}, 4: {4}, 5: {3, 5, 6}, 6: {3, 5, 6, 7, 8}, 7: {8, 6, 7}, 8: {8, 6, 7}}\n",
      "\tblack=[False, False, False, True, False, True, True, True, True]\n",
      ">>>\n",
      "\tG={0: {0}, 1: {1}, 2: {2}, 3: {3}, 4: {4}, 5: {5}, 6: {8, 6, 7}, 7: {8, 6, 7}, 8: {8, 6, 7}}\n",
      "\tblack=[False, False, False, False, False, False, False, True, True]\n",
      "@toggle END\n",
      "=== toggled, V={6, 7, 8}\n",
      "\n",
      "@toggle START\n",
      "\tG={0: {0}, 1: {1}, 2: {2}, 3: {3}, 4: {4}, 5: {5}, 6: {8, 6, 7}, 7: {8, 6, 7}, 8: {8, 6, 7}}\n",
      "\tblack=[False, False, False, False, False, False, False, True, True]\n",
      ">>>\n",
      "\tG={0: {0}, 1: {1}, 2: {2}, 3: {3}, 4: {4}, 5: {5}, 6: {6}, 7: {7}, 8: {8}}\n",
      "\tblack=[False, False, False, False, False, False, True, False, False]\n",
      "@toggle END\n",
      "=== toggled, V={6}\n",
      "\n",
      "@toggle START\n",
      "\tG={0: {0}, 1: {1}, 2: {2}, 3: {3}, 4: {4}, 5: {5}, 6: {6}, 7: {7}, 8: {8}}\n",
      "\tblack=[False, False, False, False, False, False, True, False, False]\n",
      ">>>\n",
      "\tG={0: {0}, 1: {1}, 2: {2}, 3: {3}, 4: {4}, 5: {5}, 6: {6}, 7: {7}, 8: {8}}\n",
      "\tblack=[False, False, False, False, False, False, False, False, False]\n",
      "@toggle END\n",
      "=== toggled, V=set()\n",
      "\n",
      "\n",
      "S1=[(8, {0, 2, 3}), (8, {1, 2}), (8, {2, 3}), (8, {3, 5, 6}), (7, {8, 6, 7}), (6, {6})]\n",
      "S2=[]\n",
      "V=set()\n",
      "G={0: {0}, 1: {1}, 2: {2}, 3: {3}, 4: {4}, 5: {5}, 6: {6}, 7: {7}, 8: {8}}\n",
      "black=[False, False, False, False, False, False, False, False, False]\n",
      "[8, 8, 8, 8, 7, 6]\n"
     ]
    }
   ],
   "source": [
    "ov_reversals = reversal_sort(G, black)\n",
    "print(ov_reversals)"
   ]
  },
  {
   "cell_type": "code",
   "execution_count": 59,
   "metadata": {},
   "outputs": [
    {
     "name": "stdout",
     "output_type": "stream",
     "text": [
      "[0, -3, 1, -2, 6, 4, -5, 8, -7, 9]\n",
      "8 9 [0, -3, 1, -2, 6, 4, -5, 8, -9, 7] [0, 2, 3, 1, 5, 6, 4, 9, 7, 8]\n",
      "7 7 [0, -3, 1, -2, 6, 4, -5, -8, -9, 7] [0, 2, 3, 1, 5, 6, 4, 9, 7, 8]\n",
      "7 7 [0, -3, 1, -2, 6, 4, -5, 8, -9, 7] [0, 2, 3, 1, 5, 6, 4, 9, 7, 8]\n",
      "7 7 [0, -3, 1, -2, 6, 4, -5, -8, -9, 7] [0, 2, 3, 1, 5, 6, 4, 9, 7, 8]\n",
      "8 9 [0, -3, 1, -2, 6, 4, -5, -8, -7, 9] [0, 2, 3, 1, 5, 6, 4, 8, 7, 9]\n",
      "5 8 [0, -3, 1, -2, 6, 7, 8, 5, -4, 9] [0, 2, 3, 1, 8, 7, 4, 5, 6, 9]\n"
     ]
    },
    {
     "ename": "",
     "evalue": "",
     "output_type": "error",
     "traceback": [
      "\u001b[1;31m현재 셀 또는 이전 셀에서 코드를 실행하는 동안 Kernel이 충돌했습니다. \n",
      "\u001b[1;31m셀의 코드를 검토하여 가능한 오류 원인을 식별하세요. \n",
      "\u001b[1;31m자세한 내용을 보려면 <a href='https://aka.ms/vscodeJupyterKernelCrash'>여기</a>를 클릭하세요. \n",
      "\u001b[1;31m자세한 내용은 Jupyter <a href='command:jupyter.viewOutput'>로그</a>를 참조하세요."
     ]
    }
   ],
   "source": [
    "sorted_pi = list(pi)\n",
    "sorted_pi_inv = list(pi_inv)\n",
    "print(sorted_pi)\n",
    "for v in ov_reversals:\n",
    "    a = min(sorted_pi_inv[v], sorted_pi_inv[v + 1])\n",
    "    b = max(sorted_pi_inv[v], sorted_pi_inv[v + 1])\n",
    "    if pi[a] + pi[b] == 1:\n",
    "        b -= 1\n",
    "    else:\n",
    "        a += 1\n",
    "    reverse(sorted_pi, a, b, sorted_pi_inv)\n",
    "    print(a, b, sorted_pi, sorted_pi_inv)"
   ]
  },
  {
   "cell_type": "code",
   "execution_count": null,
   "metadata": {},
   "outputs": [],
   "source": []
  }
 ],
 "metadata": {
  "kernelspec": {
   "display_name": ".venv",
   "language": "python",
   "name": "python3"
  },
  "language_info": {
   "codemirror_mode": {
    "name": "ipython",
    "version": 3
   },
   "file_extension": ".py",
   "mimetype": "text/x-python",
   "name": "python",
   "nbconvert_exporter": "python",
   "pygments_lexer": "ipython3",
   "version": "3.12.7"
  }
 },
 "nbformat": 4,
 "nbformat_minor": 2
}
