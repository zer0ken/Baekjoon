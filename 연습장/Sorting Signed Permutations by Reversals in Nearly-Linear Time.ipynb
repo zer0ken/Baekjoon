{
 "cells": [
  {
   "cell_type": "markdown",
   "metadata": {},
   "source": [
    "### 논문\n",
    "- https://arxiv.org/pdf/2308.15928"
   ]
  },
  {
   "cell_type": "markdown",
   "metadata": {},
   "source": [
    "### 입력"
   ]
  },
  {
   "cell_type": "code",
   "execution_count": 241,
   "metadata": {},
   "outputs": [],
   "source": [
    "arr = [-2, -5, 1, -4, 6, -3, 7]"
   ]
  },
  {
   "cell_type": "markdown",
   "metadata": {},
   "source": [
    "### 전처리"
   ]
  },
  {
   "cell_type": "code",
   "execution_count": 242,
   "metadata": {},
   "outputs": [
    {
     "name": "stdout",
     "output_type": "stream",
     "text": [
      "[0, -2, -5, 1, -4, 6, -3, 7, 8]\n",
      "[False, False, True, True, True, True, False, False, False]\n",
      "[0, 3, 1, 6, 4, 2, 5, 7, 8]\n",
      "[0, 2, -2, 5, -5, -1, 1, 4, -4, -6, 6, 3, -3, -7, 7, -8]\n",
      "[0, 6, 1, 11, 7, 3, 10, 14, 15, 13, 9, 4, 8, 12, 2, 5]\n"
     ]
    }
   ],
   "source": [
    "pi = [0] + arr + [len(arr) + 1]\n",
    "n = pi[-1]\n",
    "signed_pi_inv = [0] * (2*n)\n",
    "sign = [False] * (n + 1)\n",
    "pi_inv = [0] * (n + 1)\n",
    "\n",
    "signed_pi = [0]\n",
    "signed_pi_inv[0] = 0\n",
    "sign[0] = False\n",
    "pi_inv[0] = 0\n",
    "pi_inv[n] = n\n",
    "for i, num in enumerate(arr, 1):\n",
    "    signed_pi_inv[-num] = len(signed_pi)\n",
    "    signed_pi.append(-num)\n",
    "    signed_pi_inv[num] = len(signed_pi)\n",
    "    signed_pi.append(num)\n",
    "    sign[abs(num)] = num < 0\n",
    "    pi_inv[abs(num)] = i\n",
    "signed_pi_inv[-n] = len(signed_pi)\n",
    "signed_pi.append(-n)\n",
    "sign[6] = False\n",
    "\n",
    "print(pi)\n",
    "print(sign)\n",
    "print(pi_inv)\n",
    "print(signed_pi)\n",
    "print(signed_pi_inv)"
   ]
  },
  {
   "cell_type": "code",
   "execution_count": 243,
   "metadata": {},
   "outputs": [
    {
     "name": "stdout",
     "output_type": "stream",
     "text": [
      "[0, 2, 1, 5, 4, None, None, None, 3, None, 6, None, None, None, 7, None]\n",
      "[None, None, None, None, None, 0, 1, 4, None, 5, None, 3, 2, 6, None, 7]\n",
      "[False, True, False, False, False, True, False, False]\n"
     ]
    }
   ],
   "source": [
    "edge_start_at = [None] * (2*n)\n",
    "edge_end_at = [None] * (2*n)\n",
    "black = [True] * n\n",
    "\n",
    "for i in range(0, n):\n",
    "    s = signed_pi_inv[i]\n",
    "    e = signed_pi_inv[-(i + 1)]\n",
    "    if s > e:\n",
    "        s, e = e, s\n",
    "    edge_start_at[s] = i\n",
    "    edge_end_at[e] = i\n",
    "    black[i] = sign[i] != sign[i + 1]\n",
    "\n",
    "print(edge_start_at)\n",
    "print(edge_end_at)\n",
    "print(black)"
   ]
  },
  {
   "cell_type": "code",
   "execution_count": 244,
   "metadata": {},
   "outputs": [
    {
     "data": {
      "text/plain": [
       "{0: {0, 1, 2, 4, 5},\n",
       " 1: {0, 1, 4, 5},\n",
       " 2: {0, 2, 6},\n",
       " 3: {3, 5, 6},\n",
       " 4: {0, 1, 4},\n",
       " 5: {0, 1, 3, 5},\n",
       " 6: {2, 3, 6},\n",
       " 7: {7}}"
      ]
     },
     "execution_count": 244,
     "metadata": {},
     "output_type": "execute_result"
    }
   ],
   "source": [
    "G = {i: {i} for i in range(n)}\n",
    "S1 = []\n",
    "S2 = []\n",
    "for i in range(0, 2*n):\n",
    "    if (v := edge_start_at[i]) != None:\n",
    "        S1.append(v)\n",
    "    elif (v := edge_end_at[i]) != None:\n",
    "        while S1[-1] != v:\n",
    "            S2.append(s := S1.pop())\n",
    "            G[v].add(s)\n",
    "            G[s].add(v)\n",
    "        S1.pop()\n",
    "        while S2:\n",
    "            S1.append(S2.pop())\n",
    "\n",
    "G"
   ]
  },
  {
   "cell_type": "markdown",
   "metadata": {},
   "source": [
    "### toggle 정의"
   ]
  },
  {
   "cell_type": "code",
   "execution_count": 247,
   "metadata": {},
   "outputs": [],
   "source": [
    "def toggle(vertices, G, black):\n",
    "    print('@toggle START')\n",
    "    print(f'\\t{G=}')\n",
    "    print(f'\\t{black=}')\n",
    "    ret = set(vertices)\n",
    "    for neighbor in vertices:\n",
    "        G[neighbor] = G[neighbor] ^ vertices | {neighbor}\n",
    "        black[neighbor] = not black[neighbor]\n",
    "    print(f'>>>\\n\\t{G=}')\n",
    "    print(f'\\t{black=}')\n",
    "    print('@toggle END')\n",
    "    return ret"
   ]
  },
  {
   "cell_type": "markdown",
   "metadata": {},
   "source": [
    "### reversal_sort 정의"
   ]
  },
  {
   "cell_type": "code",
   "execution_count": 250,
   "metadata": {},
   "outputs": [],
   "source": [
    "def reversal_sort(G, black):\n",
    "    S1, S2 = [], []\n",
    "    V = set()\n",
    "    \n",
    "    for v in G:\n",
    "        if len(G[v]) != 1 or black[v]:\n",
    "            V.add(v)\n",
    "    \n",
    "    print(f'initial {V=}\\n')\n",
    "            \n",
    "    def toggle_black():\n",
    "        for v in V:\n",
    "            if black[v]:\n",
    "                break\n",
    "        affected = toggle(G[v], G, black)\n",
    "        for v in set(V):\n",
    "            if len(G[v]) == 1 and not black[v]:\n",
    "                V.remove(v)\n",
    "        S1.append((v, affected))\n",
    "        print(f'=== toggled, {V=}\\n')\n",
    "\n",
    "    def undo_last_toggle():\n",
    "        w, to_undo = S1.pop()\n",
    "        affected = toggle(to_undo, G, black)\n",
    "        print(f'=== undone toggle, {V=}\\n')\n",
    "        return w, affected\n",
    "\n",
    "    while any(black[v] for v in V):\n",
    "        toggle_black()\n",
    "    \n",
    "    while V:\n",
    "        while all(not black[v] for v in V):\n",
    "            undone = undo_last_toggle()\n",
    "            S2.append(undone)\n",
    "        while any(black[v] for v in V):\n",
    "            toggle_black()\n",
    "        if not black[S2[-1][0]]:\n",
    "            undo_last_toggle()\n",
    "        \n",
    "    print()\n",
    "    print(f'{S1=}')\n",
    "    print(f'{S2=}')\n",
    "    print(f'{V=}')\n",
    "    print(f'{G=}')\n",
    "    print(f'{black=}')\n",
    "\n",
    "    ret = []\n",
    "    for sort in S1 + S2[::-1]:\n",
    "        ret.append(sort[0])\n",
    "    return ret"
   ]
  },
  {
   "cell_type": "markdown",
   "metadata": {},
   "source": [
    "### 테스트"
   ]
  },
  {
   "cell_type": "code",
   "execution_count": 251,
   "metadata": {},
   "outputs": [
    {
     "name": "stdout",
     "output_type": "stream",
     "text": [
      "initial V={0, 2, 3, 4, 5, 6}\n",
      "\n",
      "@toggle START\n",
      "\tG={0: {0, 2}, 1: {1}, 2: {0, 2, 6}, 3: {3, 5, 6}, 4: {4, 5}, 5: {3, 4, 5}, 6: {2, 3, 6}, 7: {7}}\n",
      "\tblack=[True, False, False, False, True, False, False, False]\n",
      ">>>\n",
      "\tG={0: {0}, 1: {1}, 2: {2, 6}, 3: {3, 5, 6}, 4: {4, 5}, 5: {3, 4, 5}, 6: {2, 3, 6}, 7: {7}}\n",
      "\tblack=[False, False, True, False, True, False, False, False]\n",
      "@toggle END\n",
      "=== toggled, V={2, 3, 4, 5, 6}\n",
      "\n",
      "@toggle START\n",
      "\tG={0: {0}, 1: {1}, 2: {2, 6}, 3: {3, 5, 6}, 4: {4, 5}, 5: {3, 4, 5}, 6: {2, 3, 6}, 7: {7}}\n",
      "\tblack=[False, False, True, False, True, False, False, False]\n",
      ">>>\n",
      "\tG={0: {0}, 1: {1}, 2: {2}, 3: {3, 5, 6}, 4: {4, 5}, 5: {3, 4, 5}, 6: {3, 6}, 7: {7}}\n",
      "\tblack=[False, False, False, False, True, False, True, False]\n",
      "@toggle END\n",
      "=== toggled, V={3, 4, 5, 6}\n",
      "\n",
      "@toggle START\n",
      "\tG={0: {0}, 1: {1}, 2: {2}, 3: {3, 5, 6}, 4: {4, 5}, 5: {3, 4, 5}, 6: {3, 6}, 7: {7}}\n",
      "\tblack=[False, False, False, False, True, False, True, False]\n",
      ">>>\n",
      "\tG={0: {0}, 1: {1}, 2: {2}, 3: {3, 5, 6}, 4: {4}, 5: {3, 5}, 6: {3, 6}, 7: {7}}\n",
      "\tblack=[False, False, False, False, False, True, True, False]\n",
      "@toggle END\n",
      "=== toggled, V={3, 5, 6}\n",
      "\n",
      "@toggle START\n",
      "\tG={0: {0}, 1: {1}, 2: {2}, 3: {3, 5, 6}, 4: {4}, 5: {3, 5}, 6: {3, 6}, 7: {7}}\n",
      "\tblack=[False, False, False, False, False, True, True, False]\n",
      ">>>\n",
      "\tG={0: {0}, 1: {1}, 2: {2}, 3: {3, 6}, 4: {4}, 5: {5}, 6: {3, 6}, 7: {7}}\n",
      "\tblack=[False, False, False, True, False, False, True, False]\n",
      "@toggle END\n",
      "=== toggled, V={3, 6}\n",
      "\n",
      "@toggle START\n",
      "\tG={0: {0}, 1: {1}, 2: {2}, 3: {3, 6}, 4: {4}, 5: {5}, 6: {3, 6}, 7: {7}}\n",
      "\tblack=[False, False, False, True, False, False, True, False]\n",
      ">>>\n",
      "\tG={0: {0}, 1: {1}, 2: {2}, 3: {3}, 4: {4}, 5: {5}, 6: {6}, 7: {7}}\n",
      "\tblack=[False, False, False, False, False, False, False, False]\n",
      "@toggle END\n",
      "=== toggled, V=set()\n",
      "\n",
      "\n",
      "S1=[(6, {0, 2}), (6, {2, 6}), (6, {4, 5}), (6, {3, 5}), (6, {3, 6})]\n",
      "S2=[]\n",
      "V=set()\n",
      "G={0: {0}, 1: {1}, 2: {2}, 3: {3}, 4: {4}, 5: {5}, 6: {6}, 7: {7}}\n",
      "black=[False, False, False, False, False, False, False, False]\n",
      "[6, 6, 6, 6, 6]\n"
     ]
    }
   ],
   "source": [
    "sort = reversal_sort(G, black)\n",
    "print(sort)"
   ]
  },
  {
   "cell_type": "code",
   "execution_count": 238,
   "metadata": {},
   "outputs": [
    {
     "name": "stdout",
     "output_type": "stream",
     "text": [
      "initial V=set()\n",
      "\n",
      "\n",
      "S1=[]\n",
      "S2=[]\n",
      "V=set()\n",
      "G={0: {0}, 1: {1}, 2: {2}, 3: {3}, 4: {4}, 5: {5}, 6: {6}}\n",
      "black=[False, False, False, False, False, False, False]\n",
      "[2, 0]\n"
     ]
    }
   ],
   "source": [
    "sort.extend(reversal_sort(G, black))\n",
    "print(sort)"
   ]
  },
  {
   "cell_type": "code",
   "execution_count": 206,
   "metadata": {},
   "outputs": [
    {
     "name": "stdout",
     "output_type": "stream",
     "text": [
      "[0, -4, -3, -5, 1, 2, -6, 7]\n",
      "4 6 [0, -4, -3, -5, 6, -2, -1, 7]\n",
      "6 6 [0, -4, -3, -5, 6, -2, 1, 7]\n",
      "3 5 [0, -4, -3, 2, -6, 5, 1, 7]\n",
      "0 3 [-2, 3, 4, 0, -6, 5, 1, 7]\n"
     ]
    }
   ],
   "source": [
    "sorted_pi = list(pi)\n",
    "print(sorted_pi)\n",
    "for v in sort:\n",
    "    a = min(pi_inv[v], pi_inv[v + 1])\n",
    "    b = max(pi_inv[v], pi_inv[v + 1])\n",
    "    if pi[a] + pi[b] == 1:\n",
    "        b -= 1\n",
    "    else:\n",
    "        a += 1\n",
    "    sorted_pi[a:b+1] = list(map(lambda x: -x, sorted_pi[a:b+1][::-1]))\n",
    "    print(a, b, sorted_pi)"
   ]
  },
  {
   "cell_type": "code",
   "execution_count": null,
   "metadata": {},
   "outputs": [],
   "source": []
  }
 ],
 "metadata": {
  "kernelspec": {
   "display_name": ".venv",
   "language": "python",
   "name": "python3"
  },
  "language_info": {
   "codemirror_mode": {
    "name": "ipython",
    "version": 3
   },
   "file_extension": ".py",
   "mimetype": "text/x-python",
   "name": "python",
   "nbconvert_exporter": "python",
   "pygments_lexer": "ipython3",
   "version": "3.12.7"
  }
 },
 "nbformat": 4,
 "nbformat_minor": 2
}
