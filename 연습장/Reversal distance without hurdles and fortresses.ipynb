{
 "cells": [
  {
   "cell_type": "markdown",
   "metadata": {},
   "source": [
    "### 논문\n",
    "- https://www.techfak.uni-bielefeld.de/~stoye/files/bergeron.pdf"
   ]
  },
  {
   "cell_type": "code",
   "execution_count": 230,
   "metadata": {},
   "outputs": [],
   "source": [
    "arr = [0, -3, 1, 2, 4, 6, 5, 7, -15, -13, -14, -12, -10, -11, -9, 8, 16]"
   ]
  },
  {
   "cell_type": "code",
   "execution_count": 231,
   "metadata": {},
   "outputs": [],
   "source": [
    "n = arr[-1]\n",
    "pi = list(map(abs, arr))\n",
    "sigma = [v >= 0 for v in arr]"
   ]
  },
  {
   "cell_type": "markdown",
   "metadata": {},
   "source": [
    "#### 알고리즘"
   ]
  },
  {
   "cell_type": "code",
   "execution_count": 241,
   "metadata": {},
   "outputs": [],
   "source": [
    "def algorithm_1(pi, sigma):\n",
    "    \"\"\"\n",
    "    Find the components of signed permutation P = (pi, sigma).\n",
    "    \"\"\"\n",
    "    \n",
    "    M1, M2 = [n], [0] \n",
    "    S1, S2 = [0], [0]\n",
    "    M = [n] + [None] * n\n",
    "    m = [0] + [None] * n\n",
    "\n",
    "    component_starts_at = [None] * (n + 1)\n",
    "    component_ends_at = [None] * (n + 1)\n",
    "    \n",
    "    for i in range(1, n + 1):\n",
    "        \"\"\" Compute the M[i] \"\"\"\n",
    "        if pi[i - 1] > pi[i]:\n",
    "            M1.append(pi[i - 1])\n",
    "        else:\n",
    "            while M1 and M1[-1] < pi[i]:\n",
    "                M1.pop()\n",
    "        M[i] = M1[-1]\n",
    "        \n",
    "        \"\"\" Find direct components \"\"\"\n",
    "        while pi[S1[-1]] > pi[i] or M[S1[-1]] < pi[i]:\n",
    "            S1.pop()\n",
    "        s = S1[-1]\n",
    "        if sigma[i] and M[i] == M[s] and i - s == pi[i] - pi[s]:\n",
    "            component_starts_at[s] = (s, i)\n",
    "            component_ends_at[i] = (s, i)\n",
    "        \n",
    "        \"\"\" Compute the m[i] \"\"\"\n",
    "        if pi[i - 1] < pi[i]:\n",
    "            M2.append(pi[i - 1])\n",
    "        else:\n",
    "            while M2 and M2[-1] > pi[i]:\n",
    "                M2.pop()\n",
    "        m[i] = M2[-1]\n",
    "        \n",
    "        \"\"\" Find reversed components \"\"\"\n",
    "        while (pi[S2[-1]] < pi[i] or m[S2[-1]] > pi[i]) and S2[-1] > 0:\n",
    "            S2.pop()\n",
    "        s = S2[-1]\n",
    "        if not sigma[i] and m[i] == m[s] and i - s == pi[s] - pi[i]:\n",
    "            component_starts_at[s] = (s, i)\n",
    "            component_ends_at[i] = (s, i)\n",
    "        \n",
    "        \"\"\" Update stacks \"\"\"\n",
    "        if sigma[i]:\n",
    "            S1.append(i)\n",
    "        else:\n",
    "            S2.append(i)\n",
    "    return component_starts_at, component_ends_at"
   ]
  },
  {
   "cell_type": "code",
   "execution_count": 242,
   "metadata": {},
   "outputs": [],
   "source": [
    "from __future__ import annotations\n",
    "\n",
    "class Node:\n",
    "    id_ = 0\n",
    "    def __init__(\n",
    "        self,\n",
    "        is_round: bool | None = None, \n",
    "        parent: Node | None = None,\n",
    "        data: any = None\n",
    "    ):\n",
    "        self.id_ = Node.id_\n",
    "        Node.id_ += 1\n",
    "        if is_round is None:\n",
    "            self.is_square = True\n",
    "            self.is_round = False\n",
    "        else:\n",
    "            self.is_square = not is_round\n",
    "            self.is_round = is_round\n",
    "        \n",
    "        self.parent = parent\n",
    "        self.children = []\n",
    "        self.data = data\n",
    "        \n",
    "        if parent is not None:\n",
    "            parent.children.append(self)\n",
    "    \n",
    "    def __repr__(self):\n",
    "        return f'Node({self.id_}, [{\", \".join(map(repr, self.children))}])'"
   ]
  },
  {
   "cell_type": "code",
   "execution_count": 274,
   "metadata": {},
   "outputs": [],
   "source": [
    "def algorithm_2(component_starts_at, component_ends_at):\n",
    "    root = Node()\n",
    "    q = root\n",
    "    p = Node(is_round=True, parent=q, data=component_starts_at[0])\n",
    "    \n",
    "    for i in range(1, n):\n",
    "        if C := component_starts_at[i]:\n",
    "            if not component_ends_at[i]:\n",
    "                q = Node(parent=p)\n",
    "            p = Node(is_round=True, parent=q, data=C)\n",
    "        elif component_ends_at[i]:\n",
    "            p = q.parent\n",
    "            q = p.parent\n",
    "        \n",
    "    return root"
   ]
  },
  {
   "cell_type": "markdown",
   "metadata": {},
   "source": [
    "#### 실행"
   ]
  },
  {
   "cell_type": "code",
   "execution_count": 275,
   "metadata": {},
   "outputs": [],
   "source": [
    "component_starts_at, component_ends_at = algorithm_1(pi, sigma)\n",
    "tree_root = algorithm_2(component_starts_at, component_ends_at)"
   ]
  },
  {
   "cell_type": "code",
   "execution_count": 276,
   "metadata": {},
   "outputs": [
    {
     "name": "stdout",
     "output_type": "stream",
     "text": [
      "[]\n",
      "..() (0, 4) (0, 4)\n",
      "....[]\n",
      "......() (2, 3) (1, 2)\n",
      "..() (4, 7) (4, 7)\n",
      "..() (7, 16) (7, 16)\n",
      "....[]\n",
      "......() (8, 11) (-15, -12)\n",
      "......() (11, 14) (-12, -9)\n"
     ]
    }
   ],
   "source": [
    "def dfs(node, depth=0):\n",
    "    if node.is_round:\n",
    "        print('..'*depth + '() ' + str(node.data), end=' ')\n",
    "        if node.data:\n",
    "            print(f'({arr[node.data[0]]}, {arr[node.data[1]]})', end='')\n",
    "        print()\n",
    "    else:\n",
    "        print('..'*depth + '[]')\n",
    "    for child in node.children:\n",
    "        dfs(child, depth + 1)\n",
    "\n",
    "dfs(tree_root)"
   ]
  },
  {
   "cell_type": "code",
   "execution_count": null,
   "metadata": {},
   "outputs": [],
   "source": []
  },
  {
   "cell_type": "code",
   "execution_count": null,
   "metadata": {},
   "outputs": [],
   "source": []
  }
 ],
 "metadata": {
  "kernelspec": {
   "display_name": ".venv",
   "language": "python",
   "name": "python3"
  },
  "language_info": {
   "codemirror_mode": {
    "name": "ipython",
    "version": 3
   },
   "file_extension": ".py",
   "mimetype": "text/x-python",
   "name": "python",
   "nbconvert_exporter": "python",
   "pygments_lexer": "ipython3",
   "version": "3.12.7"
  }
 },
 "nbformat": 4,
 "nbformat_minor": 2
}
