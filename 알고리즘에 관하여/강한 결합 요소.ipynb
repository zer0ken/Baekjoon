{
 "cells": [
  {
   "cell_type": "markdown",
   "metadata": {},
   "source": [
    "# 강한 결합 요소"
   ]
  },
  {
   "cell_type": "markdown",
   "metadata": {},
   "source": [
    "### 그래프\n",
    "다음과 같은 그래프가 존재한다고 합시다."
   ]
  },
  {
   "cell_type": "code",
   "execution_count": 9,
   "metadata": {},
   "outputs": [],
   "source": [
    "graph = {\n",
    "    2: [3],\n",
    "    3: [1],\n",
    "    4: [2, 5],\n",
    "    5: [7],\n",
    "    6: [5],\n",
    "    7: [6],\n",
    "    8: [5],\n",
    "    9: [10],\n",
    "    10: [11],\n",
    "    11: [3, 8]\n",
    "}"
   ]
  },
  {
   "cell_type": "markdown",
   "metadata": {},
   "source": [
    "### 깊이 우선 탐색; DFS\n",
    "다음의 코드는 깊이 우선 탐색을 수행해 한 정점에서 가능한 많은 다른 정점에 한 번씩만 방문하려고 합니다."
   ]
  },
  {
   "cell_type": "code",
   "execution_count": 17,
   "metadata": {},
   "outputs": [
    {
     "name": "stdout",
     "output_type": "stream",
     "text": [
      "visited=[4, 2, 3, 1, 5, 7, 6]\n"
     ]
    }
   ],
   "source": [
    "visited = []\n",
    "\n",
    "def dfs(here):\n",
    "    visited.append(here)\n",
    "    \n",
    "    for there in graph[here]:\n",
    "        if there not in visited:\n",
    "            dfs(there)\n",
    "\n",
    "dfs(4)\n",
    "print(f'{visited=}')"
   ]
  },
  {
   "cell_type": "markdown",
   "metadata": {},
   "source": [
    "### 강한 결합 요소"
   ]
  },
  {
   "cell_type": "code",
   "execution_count": null,
   "metadata": {},
   "outputs": [],
   "source": []
  }
 ],
 "metadata": {
  "kernelspec": {
   "display_name": ".venv",
   "language": "python",
   "name": "python3"
  },
  "language_info": {
   "codemirror_mode": {
    "name": "ipython",
    "version": 3
   },
   "file_extension": ".py",
   "mimetype": "text/x-python",
   "name": "python",
   "nbconvert_exporter": "python",
   "pygments_lexer": "ipython3",
   "version": "3.12.7"
  }
 },
 "nbformat": 4,
 "nbformat_minor": 2
}
